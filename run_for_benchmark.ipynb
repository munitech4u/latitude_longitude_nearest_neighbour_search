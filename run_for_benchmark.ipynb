{
 "cells": [
  {
   "cell_type": "code",
   "execution_count": 1,
   "metadata": {
    "collapsed": false
   },
   "outputs": [],
   "source": [
    "import numpy as np\n",
    "from scipy import spatial\n",
    "import time\n",
    "import pandas as pd\n",
    "import pickle\n",
    "from pyspark.sql.functions import udf,col,cos,sin\n",
    "from pyspark.sql.types import *\n",
    "from pyspark.sql.dataframe import *\n",
    "from pyspark.sql.types import DoubleType\n",
    "from pyspark.sql.functions import monotonically_increasing_id\n",
    "from multiprocessing.dummy import Pool\n",
    "earth_rad=6371\n",
    "deg_to_rad=0.0174533\n",
    "nneib_dist=500\n",
    "#multiprocessing.cpu_count()"
   ]
  },
  {
   "cell_type": "code",
   "execution_count": null,
   "metadata": {
    "collapsed": true
   },
   "outputs": [],
   "source": [
    "spark.sparkContext.getConf().getAll()"
   ]
  },
  {
   "cell_type": "code",
   "execution_count": 9,
   "metadata": {
    "collapsed": false
   },
   "outputs": [],
   "source": [
    "obj_sql = \"select latitude as lat, longitude as lon, object_type as obj_type from advanlwork.geo_objects where latitude < 90 and latitude > -90 and latitude <> 0\" \n",
    "obj_ds = spark.sql(obj_sql)"
   ]
  },
  {
   "cell_type": "code",
   "execution_count": 3,
   "metadata": {
    "collapsed": false
   },
   "outputs": [
    {
     "name": "stdout",
     "output_type": "stream",
     "text": [
      "+--------------------+--------------------+-----------+\n",
      "|                 lat|                 lon|   obj_type|\n",
      "+--------------------+--------------------+-----------+\n",
      "|39.02684000000000...|-94.4558870000000...| prox_never|\n",
      "|39.02666500000000...|-94.4494320000000...| prox_never|\n",
      "|39.02402600000000...|-94.4600600000000...|prox_active|\n",
      "|39.01933300000000...|-94.4792940000000...|prox_active|\n",
      "|39.01406060000000...|-94.4646107000000...|prox_fmr0t1|\n",
      "+--------------------+--------------------+-----------+\n",
      "only showing top 5 rows\n",
      "\n"
     ]
    }
   ],
   "source": [
    "obj_ds.show(5)"
   ]
  },
  {
   "cell_type": "code",
   "execution_count": 10,
   "metadata": {
    "collapsed": false
   },
   "outputs": [],
   "source": [
    "obj_ds = obj_ds.withColumn(\"lat2\", obj_ds[\"lat\"].cast(DoubleType()))\n",
    "obj_ds = obj_ds.withColumn(\"lon2\", obj_ds[\"lon\"].cast(DoubleType()))"
   ]
  },
  {
   "cell_type": "code",
   "execution_count": 11,
   "metadata": {
    "collapsed": true
   },
   "outputs": [],
   "source": [
    "obj_ds = obj_ds.withColumn(\"Cord1\",earth_rad*cos(deg_to_rad*obj_ds[\"lat2\"])*cos(deg_to_rad*obj_ds[\"lon2\"]))\n",
    "obj_ds = obj_ds.withColumn(\"Cord2\",earth_rad*cos(deg_to_rad*obj_ds[\"lat2\"])*sin(deg_to_rad*obj_ds[\"lon2\"]))\n",
    "obj_ds = obj_ds.withColumn(\"Cord3\",earth_rad*sin(deg_to_rad*obj_ds[\"lat2\"]))\n",
    "\n"
   ]
  },
  {
   "cell_type": "code",
   "execution_count": 12,
   "metadata": {
    "collapsed": false
   },
   "outputs": [],
   "source": [
    "obj_ds.createOrReplaceTempView(\"data\")\n",
    "obj=spark.sql(\"select obj_type,CAST (Cord1 as DECIMAL(8,4)),CAST (Cord2 as DECIMAL(8,4)),CAST (Cord3 as DECIMAL(8,4)) from data\")"
   ]
  },
  {
   "cell_type": "code",
   "execution_count": 13,
   "metadata": {
    "collapsed": true
   },
   "outputs": [],
   "source": [
    "###### write to disk, this will save run time\n",
    "obj.write.mode(\"overwrite\").saveAsTable(\"mbansa001c.obj_mod\")"
   ]
  },
  {
   "cell_type": "code",
   "execution_count": 25,
   "metadata": {
    "collapsed": false
   },
   "outputs": [
    {
     "data": {
      "text/plain": [
       "DataFrame[obj_type: string, Cord1: decimal(8,4), Cord2: decimal(8,4), Cord3: decimal(8,4)]"
      ]
     },
     "execution_count": 25,
     "metadata": {},
     "output_type": "execute_result"
    }
   ],
   "source": [
    "obj_ds.unpersist()\n",
    "obj.unpersist()"
   ]
  },
  {
   "cell_type": "code",
   "execution_count": 2,
   "metadata": {
    "collapsed": true
   },
   "outputs": [],
   "source": [
    "obj_sql_mod = \"select * from mbansa001c.obj_mod\" \n",
    "obj_mod = spark.sql(obj_sql_mod)"
   ]
  },
  {
   "cell_type": "code",
   "execution_count": 22,
   "metadata": {
    "collapsed": false
   },
   "outputs": [
    {
     "name": "stdout",
     "output_type": "stream",
     "text": [
      "+-----------+--------+----------+---------+\n",
      "|   obj_type|   Cord1|     Cord2|    Cord3|\n",
      "+-----------+--------+----------+---------+\n",
      "| prox_never|189.1617|-4737.3109|4255.7894|\n",
      "|prox_active|189.1116|-4737.3510|4255.7471|\n",
      "|prox_active|189.8875|-4737.3765|4255.6842|\n",
      "+-----------+--------+----------+---------+\n",
      "only showing top 3 rows\n",
      "\n"
     ]
    }
   ],
   "source": [
    "obj_mod.show(3)"
   ]
  },
  {
   "cell_type": "code",
   "execution_count": 3,
   "metadata": {
    "collapsed": false
   },
   "outputs": [],
   "source": [
    "obj_list_cur=obj_mod.select(\"obj_type\").distinct().rdd.map(lambda row : row[0]).collect()"
   ]
  },
  {
   "cell_type": "code",
   "execution_count": 4,
   "metadata": {
    "collapsed": false
   },
   "outputs": [
    {
     "data": {
      "text/plain": [
       "47"
      ]
     },
     "execution_count": 4,
     "metadata": {},
     "output_type": "execute_result"
    }
   ],
   "source": [
    "len(obj_list_cur)"
   ]
  },
  {
   "cell_type": "code",
   "execution_count": 17,
   "metadata": {
    "collapsed": false
   },
   "outputs": [
    {
     "name": "stdout",
     "output_type": "stream",
     "text": [
      "prox_coinstar\n",
      "Took 0.0 minutes\n",
      "prox_fmr0t1\n",
      "Took 2.0 minutes\n",
      "prox_hotel\n",
      "Took 0.0 minutes\n",
      "prox_upsdrop\n",
      "Took 0.0 minutes\n",
      "prox_active\n",
      "Took 16.0 minutes\n",
      "prox_greendot\n",
      "Took 0.0 minutes\n",
      "prox_invest\n",
      "Took 0.0 minutes\n",
      "prox_resi_cdv\n",
      "Took 5.0 minutes\n",
      "prox_bank\n",
      "Took 0.0 minutes\n",
      "prox_shoes\n",
      "Took 0.0 minutes\n",
      "prox_grocery\n",
      "Took 0.0 minutes\n",
      "prox_calc\n",
      "Took 0.0 minutes\n",
      "prox_beauty\n",
      "Took 0.0 minutes\n",
      "prox_mobilekiosk\n",
      "Took 0.0 minutes\n",
      "prox_starbucks\n",
      "Took 0.0 minutes\n",
      "prox_bankofmurica\n",
      "Took 0.0 minutes\n",
      "prox_bus_cdv\n",
      "Took 1.0 minutes\n",
      "prox_gas\n",
      "Took 0.0 minutes\n",
      "prox_hnrblock\n",
      "Took 0.0 minutes\n",
      "prox_comb_banks\n",
      "Took 0.0 minutes\n",
      "prox_subway\n",
      "Took 0.0 minutes\n",
      "prox_fmr4pl\n",
      "Took 0.0 minutes\n",
      "prox_msft_pinpt\n",
      "Took 0.0 minutes\n",
      "prox_vzw\n",
      "Took 0.0 minutes\n",
      "prox_24hrs\n",
      "Took 0.0 minutes\n",
      "prox_farmequip\n",
      "Took 0.0 minutes\n",
      "prox_insurance\n",
      "Took 0.0 minutes\n",
      "prox_westunion\n",
      "Took 0.0 minutes\n",
      "prox_never\n",
      "Took 23.0 minutes\n",
      "prox_unsvc_resi\n",
      "Took 5.0 minutes\n",
      "prox_cricket\n",
      "Took 0.0 minutes\n",
      "prox_church\n",
      "Took 0.0 minutes\n",
      "prox_bizsvc\n",
      "Took 0.0 minutes\n",
      "prox_bakery\n",
      "Took 0.0 minutes\n",
      "prox_usps\n",
      "Took 0.0 minutes\n",
      "prox_vidrental\n",
      "Took 0.0 minutes\n",
      "prox_comm\n",
      "Took 0.0 minutes\n",
      "prox_garage\n",
      "Took 0.0 minutes\n",
      "prox_books\n",
      "Took 0.0 minutes\n",
      "prox_fmr2t3\n",
      "Took 1.0 minutes\n",
      "prox_citi\n",
      "Took 0.0 minutes\n",
      "prox_mcd\n",
      "Took 0.0 minutes\n",
      "prox_fmr1t2\n",
      "Took 2.0 minutes\n",
      "prox_eating\n",
      "Took 0.0 minutes\n",
      "prox_homesupply\n",
      "Took 0.0 minutes\n",
      "prox_redbox\n",
      "Took 0.0 minutes\n",
      "prox_unsvc_bus\n",
      "Took 0.0 minutes\n",
      "Done! Overall Took 59.0 minutes\n"
     ]
    }
   ],
   "source": [
    "start=time.time()\n",
    "\n",
    "for i in range(len(obj_list_cur)):\n",
    "                print (obj_list_cur[i])\n",
    "                start1=time.time()\n",
    "                obj_filter=obj_mod.select(\"Cord1\",\"Cord2\",\"Cord3\").where(col(\"obj_type\")==obj_list_cur[i])\n",
    "                np_obj_filter=np.array(obj_filter.rdd.map(lambda l: (l[0],l[1],l[2])).collect())\n",
    "                tree = spatial.cKDTree(np_obj_filter,leafsize=16)\n",
    "                with open('/home/mbansa001c/tree_'+str(obj_list_cur[i]), 'wb') as f:\n",
    "                      pickle.dump(tree, f)\n",
    "                print(\"Took \" + str(round(((time.time())-start1)/60)) + \" minutes\")\n",
    "print(\"Done! Overall Took \" + str(round(((time.time())-start)/60)) + \" minutes\")"
   ]
  },
  {
   "cell_type": "code",
   "execution_count": 18,
   "metadata": {
    "collapsed": true
   },
   "outputs": [],
   "source": [
    "cust_sql = \"select cast(serloc_longitude as Decimal(24,20)) as lon, cast(serloc_latitude as Decimal(24,20)) as lat, klondike_monthly.housekey from advanl.klondike_monthly inner join (select housekey from advanl.klondike_monthly where year=2018 and month=1 and coalesce(housekey,'')<>'' group by housekey having count(1)=1) as rsUnique on klondike_monthly.housekey = rsUnique.housekey where year=2018 and month=1 and coalesce(serloc_latitude,'')<>'' and coalesce(serloc_longitude,'')<>'' and serloc_latitude <> 0\"\n",
    "cust_ds = spark.sql(cust_sql)"
   ]
  },
  {
   "cell_type": "code",
   "execution_count": 19,
   "metadata": {
    "collapsed": false
   },
   "outputs": [
    {
     "data": {
      "text/plain": [
       "59263206"
      ]
     },
     "execution_count": 19,
     "metadata": {},
     "output_type": "execute_result"
    }
   ],
   "source": [
    "cust_ds.count()"
   ]
  },
  {
   "cell_type": "code",
   "execution_count": 20,
   "metadata": {
    "collapsed": true
   },
   "outputs": [],
   "source": [
    "cust_ds = cust_ds.withColumn(\"lat2\", cust_ds[\"lat\"].cast(DoubleType()))\n",
    "cust_ds = cust_ds.withColumn(\"lon2\", cust_ds[\"lon\"].cast(DoubleType()))\n",
    "\n",
    "cust_ds = cust_ds.withColumn(\"Cord1\",earth_rad*cos(deg_to_rad*cust_ds[\"lat2\"])*cos(deg_to_rad*cust_ds[\"lon2\"]))\n",
    "cust_ds = cust_ds.withColumn(\"Cord2\",earth_rad*cos(deg_to_rad*cust_ds[\"lat2\"])*sin(deg_to_rad*cust_ds[\"lon2\"]))\n",
    "cust_ds = cust_ds.withColumn(\"Cord3\",earth_rad*sin(deg_to_rad*cust_ds[\"lat2\"]))"
   ]
  },
  {
   "cell_type": "code",
   "execution_count": 21,
   "metadata": {
    "collapsed": true
   },
   "outputs": [],
   "source": [
    "cust_ds.createOrReplaceTempView(\"data1\")\n",
    "obj_cust=spark.sql(\"select housekey,CAST (Cord1 as DECIMAL(8,4)),CAST (Cord2 as DECIMAL(8,4)),CAST (Cord3 as DECIMAL(8,4)) from data1\")"
   ]
  },
  {
   "cell_type": "code",
   "execution_count": 22,
   "metadata": {
    "collapsed": true
   },
   "outputs": [],
   "source": [
    "###### write to disk, this will save run time\n",
    "obj_cust.write.mode(\"overwrite\").saveAsTable(\"mbansa001c.cust_mod\")"
   ]
  },
  {
   "cell_type": "code",
   "execution_count": 28,
   "metadata": {
    "collapsed": false
   },
   "outputs": [],
   "source": [
    "obj_mod.unpersist()\n",
    "cust_ds.unpersist()\n",
    "obj_cust.unpersist()\n",
    "sc._jvm.System.gc()"
   ]
  },
  {
   "cell_type": "code",
   "execution_count": 5,
   "metadata": {
    "collapsed": false
   },
   "outputs": [
    {
     "data": {
      "text/plain": [
       "DataFrame[obj_type: string, Cord1: decimal(8,4), Cord2: decimal(8,4), Cord3: decimal(8,4)]"
      ]
     },
     "execution_count": 5,
     "metadata": {},
     "output_type": "execute_result"
    }
   ],
   "source": [
    "obj_mod.unpersist()"
   ]
  },
  {
   "cell_type": "code",
   "execution_count": 5,
   "metadata": {
    "collapsed": true
   },
   "outputs": [],
   "source": [
    "cust_sql_mod = \"select * from mbansa001c.cust_mod\" \n",
    "cust_mod = spark.sql(cust_sql_mod)"
   ]
  },
  {
   "cell_type": "code",
   "execution_count": 6,
   "metadata": {
    "collapsed": false
   },
   "outputs": [
    {
     "name": "stdout",
     "output_type": "stream",
     "text": [
      "Done! Took 3.0 minutes\n"
     ]
    }
   ],
   "source": [
    "o={}\n",
    "start=time.time()\n",
    "k=0\n",
    "obj_names=[]\n",
    "for i in range(len(obj_list_cur)):\n",
    "        with open('/home/mbansa001c/tree_'+str(obj_list_cur[i]), \"rb\") as f:\n",
    "               tree = pickle.load(f)   \n",
    "        kdt_b = sc.broadcast(tree)\n",
    "        points_parsed= cust_mod.select('Cord1','Cord2','Cord3').rdd.map(lambda l: (l[0],l[1],l[2]))\n",
    "        t = points_parsed.map(lambda x: kdt_b.value.query_ball_point(x,r=nneib_dist/1000))\n",
    "        t_length = t.map(lambda x: len(x))\n",
    "        o[k] = t_length.toDF('int')\n",
    "        k=k+1\n",
    "        obj_names.append(str(obj_list_cur[i])+\"_cnt\"+str(nneib_dist))\n",
    "\n",
    "\n",
    "print(\"Done! Took \" + str(round(((time.time())-start)/60)) + \" minutes\")"
   ]
  },
  {
   "cell_type": "code",
   "execution_count": 7,
   "metadata": {
    "collapsed": false
   },
   "outputs": [
    {
     "name": "stdout",
     "output_type": "stream",
     "text": [
      "done\n",
      "Done! Took 34.0 minutes\n"
     ]
    }
   ],
   "source": [
    "df={}\n",
    "start=time.time()\n",
    "for i in range(len(obj_list_cur)+1):\n",
    "    if i==0:\n",
    "        df[i] = cust_mod.select('housekey')\n",
    "        df[i+1] = df[i].rdd.zipWithIndex().toDF()\n",
    "     \n",
    "    else:\n",
    "        df_tmp = o[i-1].select(\"value\").rdd.zipWithIndex().toDF()\n",
    "        df_tmp1 = df_tmp.select(col(\"_1\").alias(obj_names[i-1]),col(\"_2\"))\n",
    "        \n",
    "        df[i+1] = df[i].join(df_tmp1, \"_2\", \"inner\").drop(df_tmp1._2)\n",
    "        df[i].unpersist()\n",
    "\n",
    "print(\"done\")\n",
    "print(\"Done! Took \" + str(round(((time.time())-start)/60)) + \" minutes\")"
   ]
  },
  {
   "cell_type": "code",
   "execution_count": 41,
   "metadata": {
    "collapsed": false
   },
   "outputs": [
    {
     "data": {
      "text/plain": [
       "59263206"
      ]
     },
     "execution_count": 41,
     "metadata": {},
     "output_type": "execute_result"
    }
   ],
   "source": [
    "df[i+1].count()"
   ]
  },
  {
   "cell_type": "code",
   "execution_count": 49,
   "metadata": {
    "collapsed": true
   },
   "outputs": [],
   "source": [
    "df_final = df[i+1].withColumnRenamed(\"_1\", \"housekey\").drop(df[i+1]._2)"
   ]
  },
  {
   "cell_type": "code",
   "execution_count": 48,
   "metadata": {
    "collapsed": false
   },
   "outputs": [
    {
     "name": "stdout",
     "output_type": "stream",
     "text": [
      "Done! Took 6.0 minutes\n"
     ]
    }
   ],
   "source": [
    "start=time.time()\n",
    "df_final.write.mode(\"overwrite\").saveAsTable(\"mbansa001c.final_count\")\n",
    "print(\"Done! Took \" + str(round(((time.time())-start)/60)) + \" minutes\")"
   ]
  }
 ],
 "metadata": {
  "kernelspec": {
   "display_name": "Python 2",
   "language": "python",
   "name": "python2"
  },
  "language_info": {
   "codemirror_mode": {
    "name": "ipython",
    "version": 2
   },
   "file_extension": ".py",
   "mimetype": "text/x-python",
   "name": "python",
   "nbconvert_exporter": "python",
   "pygments_lexer": "ipython2",
   "version": "2.7.13"
  }
 },
 "nbformat": 4,
 "nbformat_minor": 2
}
